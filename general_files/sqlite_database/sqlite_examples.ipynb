{
 "cells": [
  {
   "cell_type": "code",
   "execution_count": 1,
   "metadata": {},
   "outputs": [],
   "source": [
    "##run this block first to create a connection to the EVApeCognition.db file\n",
    "import sqlite3\n",
    "from sqlite3 import Error\n",
    "import pandas as pd\n",
    "\n",
    "def create_connection(db_file):\n",
    "    try:\n",
    "        conn = sqlite3.connect(db_file)\n",
    "    except Error as e:\n",
    "        print(e)\n",
    "    return conn\n",
    "\n",
    "conn = create_connection('EVApeCognition.db')"
   ]
  },
  {
   "cell_type": "code",
   "execution_count": 3,
   "metadata": {},
   "outputs": [
    {
     "name": "stdout",
     "output_type": "stream",
     "text": [
      "[('amira', 'bonobo'), ('bokela', 'bonobo'), ('fimi', 'bonobo'), ('gemena', 'bonobo'), ('gerda', 'bonobo'), ('hodari', 'bonobo'), ('jasongo', 'bonobo'), ('joey', 'bonobo'), ('kasai_II', 'bonobo'), ('kuno', 'bonobo'), ('lexi', 'bonobo'), ('limbuko', 'bonobo'), ('loto', 'bonobo'), ('luiza', 'bonobo'), ('sumai', 'bonobo'), ('tayo', 'bonobo'), ('ulindi', 'bonobo'), ('yaro', 'bonobo'), ('yasa', 'bonobo'), ('alex', 'chimpanzee'), ('alexandra', 'chimpanzee'), ('annett', 'chimpanzee'), ('azibo', 'chimpanzee'), ('bambari', 'chimpanzee'), ('bangolo', 'chimpanzee'), ('brent', 'chimpanzee'), ('brigitta', 'chimpanzee'), ('carola', 'chimpanzee'), ('changa', 'chimpanzee'), ('corry', 'chimpanzee'), ('daza', 'chimpanzee'), ('dorien', 'chimpanzee'), ('fifi', 'chimpanzee'), ('frank', 'chimpanzee'), ('fraukje', 'chimpanzee'), ('frederike', 'chimpanzee'), ('frodo', 'chimpanzee'), ('fynn', 'chimpanzee'), ('gertrudia', 'chimpanzee'), ('hope', 'chimpanzee'), ('jahaga', 'chimpanzee'), ('jeudi', 'chimpanzee'), ('kara', 'chimpanzee'), ('kisha', 'chimpanzee'), ('kofi', 'chimpanzee'), ('lobo', 'chimpanzee'), ('lome', 'chimpanzee'), ('maja', 'chimpanzee'), ('makeni', 'chimpanzee'), ('mora', 'chimpanzee'), ('mosi', 'chimpanzee'), ('natascha', 'chimpanzee'), ('ohini', 'chimpanzee'), ('patrick', 'chimpanzee'), ('pia', 'chimpanzee'), ('quamisha', 'chimpanzee'), ('riet', 'chimpanzee'), ('robert', 'chimpanzee'), ('sandra', 'chimpanzee'), ('swela', 'chimpanzee'), ('tai', 'chimpanzee'), ('ulla', 'chimpanzee'), ('unyoro', 'chimpanzee'), ('youma', 'chimpanzee'), ('zira', 'chimpanzee'), ('abeeku', 'gorilla'), ('bebe', 'gorilla'), ('diara', 'gorilla'), ('effie', 'gorilla'), ('gorgo', 'gorilla'), ('jengo', 'gorilla'), ('kianga', 'gorilla'), ('kibara', 'gorilla'), ('kio', 'gorilla'), ('kumili', 'gorilla'), ('louna', 'gorilla'), ('n’diki', 'gorilla'), ('n’kwango', 'gorilla'), (\"ruby_b'windi\", 'gorilla'), ('vimoto', 'gorilla'), ('viringika', 'gorilla'), ('vizuri', 'gorilla'), ('zola', 'gorilla'), ('batak', 'orangutan'), ('bimbo', 'orangutan'), ('dokana', 'orangutan'), ('dunja', 'orangutan'), ('kila', 'orangutan'), ('lursa', 'orangutan'), ('maia', 'orangutan'), ('martok', 'orangutan'), ('mengala', 'orangutan'), ('padana', 'orangutan'), ('pagai', 'orangutan'), ('pini', 'orangutan'), ('raja', 'orangutan'), ('rima', 'orangutan'), ('sari', 'orangutan'), ('suaq', 'orangutan'), ('tanah', 'orangutan'), ('tao', 'orangutan'), ('toba', 'orangutan'), ('vilmos', 'orangutan'), ('walter', 'orangutan'), ('zora', 'orangutan')]\n"
     ]
    }
   ],
   "source": [
    "## here is a simple example of how to get a list of all ape names and species included in the database\n",
    "join = conn.execute(\"\"\"SELECT participant.participant, participant.species \n",
    "                        FROM participant\"\"\").fetchall()\n",
    "print(join)\n"
   ]
  },
  {
   "cell_type": "code",
   "execution_count": 4,
   "metadata": {},
   "outputs": [
    {
     "name": "stdout",
     "output_type": "stream",
     "text": [
      "[('amici2012aversion_1', 94), ('amici2012aversion_2', 113), ('amici2014calculated_1', 26), ('amici2014lack_1', 100), ('amici2018social_1', 40), ('brauer2006apes_1', 240), ('brauer2007chimpanzees_1', 29), ('brauer2007chimpanzees_2', 27), ('brauer2009apes_1', 62), ('bueno2019bargaining_1', 8), ('dufour2009calculated_1', 2), ('duguid2014coordination_1', 28), ('duguid2020strategies_1', 24), ('engelmann2017social_1', 10), ('greenberg2010chimpanzee_1', 12), ('grueneisen2017children_1a', 12), ('grueneisen2017children_1b', 12), ('hepach2020help_1', 24), ('hepach2021chimpanzees_1', 15), ('hepach2021chimpanzees_2', 13), ('herrmann2019human_1', 9), ('kanngiesser2020children_1', 28), ('karg2016differing_1', 16), ('knofe2019chimpanzees_1', 15), ('leeuwen2013total_1', 90), ('leeuwen2014human_1', 18), ('liebal2014does_1', 50), ('liebal2017give_1', 104), ('moore2015production_1', 5), ('nolte2021targeted_1', 12), ('nolte2021targeted_2', 12), ('sanchez2016chimpanzees_1', 19), ('sanchez2017chimpanzees_1', 56), ('sanchez2018chimpanzees_1', 6), ('sanchez2019chimpanzees_1', 12), ('sanchez2021chimpanzees_1', 16), ('schmelz2011chimpanzees_1', 12), ('schmelz2013chimpanzees_1', 8), ('schmelz2017chimpanzees_1', 6), ('schmelz2017chimpanzees_2', 6), ('schmelz2017chimpanzees_3', 6), ('uher2008coherence_5', 48), ('volter2015exploitation_1', 3), ('volter2015exploitation_2', 3), ('volter2015exploitation_3', 3), ('volter2015exploitation_4', 2)]\n"
     ]
    }
   ],
   "source": [
    "## here is an example of how to get the number of dyads per experiment, grouped by experiment\n",
    "join = conn.execute(\"\"\"SELECT dyad_experiment.study_exp, COUNT (*)\n",
    "                        FROM dyad_experiment\n",
    "                        GROUP BY dyad_experiment.study_exp\"\"\").fetchall()\n",
    "\n",
    "\n",
    "## here is an example of how to get the number of distinct experiments that have any dyads\n",
    "# join = conn.execute(\"\"\"SELECT COUNT(DISTINCT dyad_experiment.study_exp)\n",
    "#                         FROM dyad_experiment\"\"\").fetchall()\n",
    "\n",
    "               \n",
    "print(join)"
   ]
  },
  {
   "cell_type": "code",
   "execution_count": 3,
   "metadata": {},
   "outputs": [
    {
     "name": "stdout",
     "output_type": "stream",
     "text": [
      "[('brigitta', 1967, 1), ('dunja', 1973, 4), ('frederike', 1974, 1), ('robert', 1975, 12), ('fraukje', 1976, 4), ('corry', 1976, 12), ('ulla', 1977, 6), ('riet', 1977, 11), ('n’diki', 1978, 12), ('bebe', 1979, 1), ('natascha', 1980, 3), ('bimbo', 1980, 9), ('dorien', 1980, 10), ('gorgo', 1981, 6), ('joey', 1982, 12), ('daza', 1986, 1), ('maja', 1986, 5), ('pini', 1988, 6), ('dokana', 1989, 1), ('walter', 1989, 4), ('zora', 1990, 5), ('jasongo', 1990, 8), ('hope', 1990, 12), ('jahaga', 1993, 1), ('effie', 1993, 3), ('quamisha', 1993, 4), ('fifi', 1993, 5), ('gertrudia', 1993, 5), ('sandra', 1993, 6), ('ulindi', 1993, 10), ('frodo', 1993, 11), ('toba', 1994, 2), ('vimoto', 1995, 3), ('viringika', 1995, 3), ('vizuri', 1995, 5), ('limbuko', 1995, 10), ('swela', 1995, 10), ('mengala', 1996, 4), ('n’kwango', 1996, 9), ('kuno', 1996, 11), ('unyoro', 1997, 2), ('patrick', 1997, 6), ('zira', 1997, 6), ('yasa', 1997, 8), ('padana', 1997, 11), (\"ruby_b'windi\", 1997, 12), ('abeeku', 1999, 5), ('alexandra', 1999, 8), ('annett', 1999, 8), ('brent', 1999, 8), ('lexi', 1999, 9), ('pia', 1999, 9), ('kila', 2000, 6), ('bambari', 2000, 12), ('mosi', 2001, 2), ('alex', 2001, 3), ('lome', 2001, 8), ('tai', 2002, 8), ('raja', 2003, 9), ('bokela', 2003, 10), ('pagai', 2003, 12), ('kibara', 2004, 1), ('kumili', 2004, 1), ('kisha', 2004, 3), ('lobo', 2004, 4), ('tao', 2004, 11), ('fynn', 2004, 12), ('luiza', 2005, 1), ('kara', 2005, 6), ('kofi', 2005, 7), ('gemena', 2005, 11), ('louna', 2006, 7), ('mora', 2007, 6), ('maia', 2007, 12), ('zola', 2008, 4), ('fimi', 2008, 7), ('suaq', 2009, 5), ('tanah', 2009, 6), ('bangolo', 2009, 7), ('loto', 2009, 9), ('batak', 2009, 10), ('vilmos', 2010, 12), ('changa', 2011, 3), ('kasai_II', 2013, 1), ('yaro', 2013, 4), ('jengo', 2013, 12), ('diara', 2014, 3), ('azibo', 2015, 4), ('ohini', 2016, 3), ('tayo', 2016, 7), ('kianga', 2016, 12), ('martok', 2017, 3), ('amira', 2017, 5), ('sari', 2017, 8), ('kio', 2017, 12), ('makeni', 2018, 3), ('youma', 2018, 3), ('sumai', 2018, 6), ('rima', 2019, 8), ('frank', 2019, 12), ('hodari', 2020, 2), ('carola', 2020, 5), ('gerda', 2021, 4), ('lursa', 2021, 8), ('jeudi', 'unknown', 'unknown')]\n"
     ]
    }
   ],
   "source": [
    "## here is an example of how to get a list of all great apes in order of birthday\n",
    "## orders by year first, then within that set, orders by month\n",
    "join = conn.execute(\"\"\"SELECT participant.participant, participant.year_of_birth , participant.month_of_birth\n",
    "                        FROM participant\n",
    "                        WHERE\n",
    "                            participant.year_of_birth IS NOT NULL\n",
    "                        ORDER BY participant.year_of_birth ASC, participant.month_of_birth ASC\"\"\").fetchall()\n",
    "\n",
    "print(join)"
   ]
  },
  {
   "cell_type": "code",
   "execution_count": 5,
   "metadata": {},
   "outputs": [
    {
     "name": "stdout",
     "output_type": "stream",
     "text": [
      "[('bambari', 'chimpanzee', 2000, 12), ('mosi', 'chimpanzee', 2001, 2), ('alex', 'chimpanzee', 2001, 3), ('lome', 'chimpanzee', 2001, 8), ('tai', 'chimpanzee', 2002, 8), ('kibara', 'gorilla', 2004, 1), ('kumili', 'gorilla', 2004, 1), ('kisha', 'chimpanzee', 2004, 3), ('lobo', 'chimpanzee', 2004, 4), ('fynn', 'chimpanzee', 2004, 12), ('kara', 'chimpanzee', 2005, 6), ('kofi', 'chimpanzee', 2005, 7), ('louna', 'gorilla', 2006, 7), ('mora', 'chimpanzee', 2007, 6), ('zola', 'gorilla', 2008, 4), ('bangolo', 'chimpanzee', 2009, 7), ('changa', 'chimpanzee', 2011, 3), ('jengo', 'gorilla', 2013, 12), ('diara', 'gorilla', 2014, 3), ('azibo', 'chimpanzee', 2015, 4), ('ohini', 'chimpanzee', 2016, 3), ('kianga', 'gorilla', 2016, 12), ('kio', 'gorilla', 2017, 12), ('makeni', 'chimpanzee', 2018, 3), ('youma', 'chimpanzee', 2018, 3), ('frank', 'chimpanzee', 2019, 12), ('carola', 'chimpanzee', 2020, 5), ('jeudi', 'chimpanzee', 'unknown', 'unknown')]\n"
     ]
    }
   ],
   "source": [
    "## here is an example of how to search for all chimpanzees and gorillas born after the year 2000\n",
    "join = conn.execute(\"\"\"SELECT participant.participant,participant.species, participant.year_of_birth , participant.month_of_birth\n",
    "                        FROM participant\n",
    "                        WHERE participant.species IN (\"chimpanzee\", \"gorilla\")\n",
    "                            AND participant.year_of_birth >= '2000'\n",
    "                        ORDER BY participant.year_of_birth ASC, participant.month_of_birth ASC\"\"\").fetchall()\n",
    "print(join)"
   ]
  },
  {
   "cell_type": "code",
   "execution_count": 6,
   "metadata": {},
   "outputs": [
    {
     "name": "stdout",
     "output_type": "stream",
     "text": [
      "[('kila', 'orangutan', 2000, 6), ('bambari', 'chimpanzee', 2000, 12), ('mosi', 'chimpanzee', 2001, 2), ('alex', 'chimpanzee', 2001, 3), ('lome', 'chimpanzee', 2001, 8), ('tai', 'chimpanzee', 2002, 8), ('raja', 'orangutan', 2003, 9), ('bokela', 'bonobo', 2003, 10), ('pagai', 'orangutan', 2003, 12), ('kibara', 'gorilla', 2004, 1), ('kumili', 'gorilla', 2004, 1), ('kisha', 'chimpanzee', 2004, 3), ('lobo', 'chimpanzee', 2004, 4), ('tao', 'orangutan', 2004, 11), ('fynn', 'chimpanzee', 2004, 12), ('luiza', 'bonobo', 2005, 1), ('kara', 'chimpanzee', 2005, 6), ('kofi', 'chimpanzee', 2005, 7), ('gemena', 'bonobo', 2005, 11), ('louna', 'gorilla', 2006, 7), ('mora', 'chimpanzee', 2007, 6), ('maia', 'orangutan', 2007, 12), ('zola', 'gorilla', 2008, 4), ('fimi', 'bonobo', 2008, 7), ('suaq', 'orangutan', 2009, 5), ('tanah', 'orangutan', 2009, 6), ('bangolo', 'chimpanzee', 2009, 7), ('loto', 'bonobo', 2009, 9), ('batak', 'orangutan', 2009, 10), ('vilmos', 'orangutan', 2010, 12)]\n"
     ]
    }
   ],
   "source": [
    "## here is an example of how to search for all participants born between the year 2000 and 2010\n",
    "join = conn.execute(\"\"\"SELECT participant.participant, participant.species, participant.year_of_birth , participant.month_of_birth\n",
    "                        FROM participant\n",
    "                        WHERE participant.year_of_birth BETWEEN 2000 and 2010\n",
    "                        ORDER BY participant.year_of_birth ASC, participant.month_of_birth ASC\"\"\").fetchall()\n",
    "print(join)\n",
    "\n"
   ]
  },
  {
   "cell_type": "code",
   "execution_count": 7,
   "metadata": {},
   "outputs": [
    {
     "name": "stdout",
     "output_type": "stream",
     "text": [
      "[('Josep Call', 'albiach2010great'), ('Jochen Barth', 'albiach2010great'), ('Josep Call', 'albiach2012apes'), ('Josep Call', 'albiach2014reversed'), ('Josep Call', 'albiach2015comparing'), ('Josep Call', 'allritz2013food'), ('Josep Call', 'allritz2016chimpanzees'), ('Josep Call', 'allritz2021chimpanzees'), ('Josep Call', 'amici2008fission'), ('Josep Call', 'amici2010monkeys'), ('Josep Call', 'amici2012aversion'), ('Josep Call', 'amici2012modular'), ('Josep Call', 'amici2014calculated'), ('Josep Call', 'amici2014lack'), ('Josep Call', 'amici2014response'), ('Josep Call', 'amici2018social'), ('Johannes Grossmann', 'bandini2021individually'), ('Jochen Barth', 'barth2006tracking'), ('Josep Call', 'barth2006tracking'), ('Josep Call', 'bohn2015communication'), ('Josep Call', 'bohn2016comprehension'), ('Josep Call', 'bohn2016role'), ('Josep Call', 'bohn2017information'), ('Josep Call', 'bohn2019natural'), ('Josep Call', 'bohn2020learning'), ('Josep Call', 'bourjade2014bonobos'), ('Josep Call', 'brauer2005all'), ('Josep Call', 'brauer2006apes'), ('Josep Call', 'brauer2006making'), ('Josep Call', 'brauer2007chimpanzees'), ('Josep Call', 'brauer2008chimpanzees'), ('Josep Call', 'brauer2009apes'), ('Josep Call', 'brauer2011magic'), ('Josep Call', 'brauer2015apes'), ('Josep Call', 'broihanne2019monkeys'), ('Josep Call', 'bueno2019bargaining'), ('Josep Call', 'bueno2020effects'), ('Josep Call', 'buttelmann2008behavioral'), ('Josep Call', 'buttelmann2008rational'), ('Josep Call', 'buttelmann2009great'), ('Josep Call', 'buttelmann2012great'), ('Josep Call', 'buttelmann2013chimpanzees'), ('Josep Call', 'buttelmann2017great'), ('Josep Call', 'cacchione2009gravity'), ('Josep Call', 'cacchione2010gorillas'), ('Josep Call', 'cacchione2010intuitions'), ('Josep Call', 'cacchione2013chimpanzees'), ('Josep Call', 'cacchione2014apes'), ('Josep Call', 'cacchione2014phylogenetic'), ('Josep Call', 'cacchione2016apes'), ('Josep Call', 'call2004inferences'), ('Josep Call', 'call2004unwilling'), ('Josep Call', 'call2006inferences'), ('Josep Call', 'call2007apes'), ('Josep Call', 'call2010apes'), ('Josep Call', 'christie2016sensitivity'), ('Josep Call', 'close2015colour'), ('Josep Call', 'damerius2017orientation'), ('Josep Call', 'dufour2009calculated'), ('Josep Call', 'ebel2018interplay'), ('Josep Call', 'ebel2019innovative'), ('Josep Call', 'ebel2021prior'), ('Johanna Eckert', 'eckert2017great'), ('Josep Call', 'eckert2017great'), ('Josep Call', 'forss2016cognitive'), ('Josep Call', 'girndt2008task'), ('Josep Call', 'grosse2015differences'), ('Josep Call', 'hanus2007discrete'), ('Josep Call', 'hanus2011chimpanzee'), ('Josep Call', 'hanus2011comparing'), ('Josep Call', 'hare2006chimpanzees'), ('Josep Call', 'haun2006cognitive'), ('Josep Call', 'haun2006evolutionary'), ('Josep Call', 'haun2008imitation'), ('Josep Call', 'haun2009great'), ('Josep Call', 'haun2011great'), ('Josep Call', 'helme2006bonobos'), ('Josep Call', 'hepach2021chimpanzees'), ('Josep Call', 'herrmann2008great'), ('Josep Call', 'hribar2011great'), ('Josep Call', 'hribar2011strategies'), ('Josep Call', 'jensen2006altruism'), ('Josep Call', 'jensen2007chimpanzees'), ('Josep Call', 'jensen2007spite'), ('Josep Call', 'kaiser2012theft'), ('Josep Call', 'kaminski2004body'), ('Josep Call', 'kaminski2008chimpanzees'), ('Josep Call', 'kanngiesser2010bonobos'), ('Josep Call', 'kanngiesser2011limits'), ('Josep Call', 'kano2011visual'), ('Josep Call', 'kano2012face'), ('Josep Call', 'kano2014cross'), ('Josep Call', 'kano2014great'), ('Josep Call', 'kano2015social'), ('Josep Call', 'kano2016nasal'), ('Josep Call', 'kano2018human'), ('Josep Call', 'kano2018primate'), ('Josep Call', 'kano2019great'), ('Josep Call', 'karg2014all'), ('Josep Call', 'karg2016differing'), ('Josep Call', 'krachun2009can'), ('Josep Call', 'krachun2009chimpanzees'), ('Josep Call', 'krachun2009competitive'), ('Josep Call', 'krachun2010new'), ('Josep Call', 'krupenye2016great'), ('Josep Call', 'krupenye2017test'), ('Josep Call', 'laumer2018spontaneous'), ('Josep Call', 'laumer2019orangutans'), ('Josep Call', 'leeuwen2013total'), ('Josep Call', 'leeuwen2014human'), ('Josep Call', 'leeuwen2017conservatism'), ('Josep Call', 'lewis2017distinctiveness'), ('Josep Call', 'lewis2017non'), ('Josep Call', 'lewis2018remembering'), ('Josep Call', 'liebal2004move'), ('Joseph M. Baker', 'maclean2014the'), ('Joel Bray', 'maclean2014the'), ('Josep Call', 'maclean2014the'), ('Joshua M. Plotnik', 'maclean2014the'), ('Jordan C. Wade', 'maclean2014the'), ('Josep Call', 'manrique2010great'), ('Josep Call', 'manrique2011spontaneous'), ('Josep Call', 'manrique2013repeated'), ('Josep Call', 'manrique2015age'), ('Josep Call', 'martin2008tubes'), ('Josep Call', 'martin2009assessing'), ('Josep Call', 'martin2010keeping'), ('Josep Call', 'martin2011memory'), ('Josep Call', 'martin2012barriers'), ('Josep Call', 'martin2012sequential'), ('Josep Call', 'martin2013memory'), ('Josep Call', 'martin2014remembering'), ('Josep Call', 'mayer2014abstract'), ('Josep Call', 'melis2006chimpanzees'), ('Josefine Kalbitz', 'melis2016one'), ('Josep Call', 'mendes2007raising'), ('Josep Call', 'mendes2008ape'), ('Josep Call', 'mendes2011primates'), ('Josep Call', 'mendes2014chimpanzees'), ('Josep Call', 'mendes2018preschool'), ('Josep Call', 'moore2015production'), ('Josep Call', 'mulcahy2005gorillas'), ('Josep Call', 'mulcahy2006apes'), ('Josep Call', 'mulcahy2006great'), ('Josep Call', 'mulcahy2009performance'), ('Josep Call', 'munar2015common'), ('Josep Call', 'nolte2021targeted'), ('Josep Call', 'okamoto2007great'), ('Josep Call', 'okamoto2008tracking'), ('Josep Call', 'parron2008behavioural'), ('Joel Fagot', 'parron2008behavioural'), ('Josep Call', 'pele2009token'), ('Josep Call', 'pele2014bet'), ('Josep Call', 'poti2010searching'), ('Josep Call', 'rakoczy2014apes'), ('Josep Call', 'riedl2012no'), ('Josep Call', 'romain2021non'), ('Josep Call', 'rooijakkers2009comparing'), ('Josep Call', 'russell2008image'), ('Josep Call', 'sabbatini2012understanding'), ('Josep Call', 'sanchez2016chimpanzees'), ('Josep Call', 'sanchez2016differences'), ('Josep Call', 'sanchez2017chimpanzees'), ('Josep Call', 'sanchez2018chimpanzees'), ('Josep Call', 'sanchez2019chimpanzees'), ('Josep Call', 'sanchez2019disentangling'), ('Josep Call', 'scheumann2006sumatran'), ('Josep Call', 'schmelz2011chimpanzees'), ('Josep Call', 'schmelz2013chimpanzees'), ('Josef Perner', 'schmid2017great'), ('Josep Call', 'schmitt2013monkeys'), ('Josep Call', 'schrauf2009great'), ('Josep Call', 'schrauf2011great'), ('Josep Call', 'seed2009chimpanzees'), ('Josep Call', 'seed2012chimpanzee'), ('Josep Call', 'slocombe2010chimpanzees'), ('Josep Call', 'sonesson2014sign'), ('Josep Call', 'suda2004piagetian'), ('Josep Call', 'suda2005piagetian'), ('Josep Call', 'suda2006what'), ('Josep Call', 'tauzin2020context'), ('Josep Call', 'tennie2006push'), ('Josep Call', 'tennie2008experimental'), ('Josep Call', 'tennie2009ratcheting'), ('Josep Call', 'tennie2010evidence'), ('Josep Call', 'tennie2010two'), ('Josep Call', 'tennie2019chimpanzees'), ('Josep Call', 'tomasello2007reliance'), ('Josep Call', 'uher2008coherence'), ('Josep Call', 'uher2008great'), ('Josep Call', 'vlamings2006great'), ('Josep Call', 'vlamings2010reaching'), ('Josep Call', 'voinov2020chimpanzee'), ('Josep Call', 'volter2012problem'), ('Josep Call', 'volter2014cognitive'), ('Josep Call', 'volter2014great'), ('Josep Call', 'volter2014younger'), ('Josep Call', 'volter2015exploitation'), ('Josep Call', 'volter2016great'), ('Josep Call', 'volter2018intuitive'), ('Josep Call', 'volter2019chimpanzees'), ('Josep Call', 'zimmermann2009orangutans')]\n"
     ]
    }
   ],
   "source": [
    "##this example returns all names that start with 'jo' and the study_ids where they are authors\n",
    "join = conn.execute(\"\"\"SELECT authors.name, author_study.study_id\n",
    "                        FROM authors\n",
    "                        INNER JOIN author_study\n",
    "                            ON authors.aut_id = author_study.aut_id\n",
    "                        WHERE name GLOB 'Jo*' \"\"\").fetchall()\n",
    "print(join)"
   ]
  },
  {
   "cell_type": "code",
   "execution_count": 8,
   "metadata": {},
   "outputs": [
    {
     "name": "stdout",
     "output_type": "stream",
     "text": [
      "[(1, 'Aaron A. Sandel'), (2, 'Abraham Mesa Barroso'), (3, 'África de las Heras'), (4, 'Alba Motes Rodrigo'), (5, 'Alejandra Picard'), (6, 'Alejandro Sánchez-Amaro'), (7, 'Alenka Hribar'), (8, 'Alessandra Amiconi'), (9, 'Alex Rosati'), (10, 'Alexandra Nam-Mi Gross'), (11, 'Alice Gräbener'), (12, 'Alicia P. Melis'), (13, 'Allison M. Barnard'), (14, 'A. M. I. Auersperg'), (15, 'Amanda E. Bania'), (16, 'Amanda M. Seed'), (17, 'Amrisha Vaish'), (18, 'Amélie Romain'), (19, 'Amy Lewis'), (20, 'Anke F. Bullinger'), (21, 'Anna Albiach-Serrano'), (22, 'Anna Claire Schneider'), (23, 'Anne E. Helme'), (24, 'Anne Tomm'), (25, 'Annette Clüver'), (26, 'Antje Girndt'), (27, 'Antonio C. de A. Moura'), (28, 'Arianna De Marco'), (29, 'Arii Watanabe'), (30, 'Ayaka Takimoto'), (31, 'Barbara Gambetta'), (32, 'Benjamin Schmid'), (33, 'Bernard Thierry'), (34, 'Bettina Bläsing'), (35, 'Birute M. F. Galdikas'), (36, 'Blathnaid Greene'), (37, 'Bradley Barney'), (38, 'Brian Hare'), (39, 'Bruce M. Hood'), (40, 'B. Ngoubangoye'), (41, 'Carel P. van Schaik'), (42, 'Carla Krachun'), (43, 'Carla Pritsch'), (44, 'Carla Sebastián-Enesco'), (45, 'Carole Parron'), (46, 'Carolina Mayer'), (47, 'Catherine Crockford'), (48, 'Charles L. Nunn'), (49, 'Chihiro Hiramatsu'), (50, 'Chikako Suda'), (51, 'Christophe Heintz'), (52, 'Christopher Krupenye'), (53, 'Christian J. Rapold'), (54, 'Christian Nawroth'), (55, 'Christine Hrubesch'), (56, 'Christoph J. Völter'), (57, 'Clara Kordt'), (58, 'Claudia A. F. Wascher'), (59, 'Claudia Fichtel'), (60, 'Claudio Tennie'), (61, 'Cordelia Mühlenbeck'), (62, 'Cornelia Schrauf'), (63, 'Cristina M. Atance'), (64, 'Crystal L. Egelkamp'), (65, 'Daniel B. M. Haun'), (66, 'Daniel Hanus'), (67, 'Daniela Hedwig'), (68, 'David Buttelmann'), (69, 'Dedre Gentner'), (70, 'Delphine Verrier'), (71, 'Derry Taylor'), (72, 'Dietmar Zinner'), (73, 'Dorthe Berntsen'), (74, 'Drew M. Altschul'), (75, 'Edwin van Leeuwen'), (76, 'Eleanor Seddon'), (77, 'Elisa Bandini'), (78, 'Elisabetta Visalberghi'), (79, 'Elizabeth M. Brannon'), (80, 'Elizabeth Warren'), (81, 'Elsa Addessi'), (82, 'Emily E. Bray'), (83, 'Emily J. E. Messer'), (84, 'Emily Wyman'), (85, 'Emma Suvi McEwen'), (86, 'Enric Munar'), (87, 'Erik P. Willems'), (88, 'Esther Herrmann'), (89, 'Evan MacLean'), (90, 'Eveline Rooijakkers'), (91, 'Federica Amici'), (92, 'Federico Rossano'), (93, 'Felix Warneken'), (94, 'Felizitas Zimmermann'), (95, 'Fernando Colmenares'), (96, 'Filippo Aureli'), (97, 'Frances Buttelmann'), (98, 'Frances Chen'), (99, 'Franka Jaek'), (100, 'Franziska Zemke'), (101, 'Friederike Range'), (102, 'Fumihiro Kano'), (103, 'Gabriele Janzen'), (104, 'Gemma Martin Ordas'), (105, 'Gerardo Gómez-Puerto'), (106, 'Gloria Sabbatini'), (107, 'Goran Sonesson'), (108, 'Grace Fletcher'), (109, 'Günther Knoblich'), (110, 'György Gergely'), (111, 'Hagen Knofe'), (112, 'Hagen Lehmann'), (113, 'Hannes Rakoczy'), (114, 'Hector Marin-Manrique'), (115, 'Heiko Saur'), (116, 'Heinz Gretscher'), (117, 'Henriette Zeidler'), (118, 'Inés Sentís'), (119, 'Ingrid Kaiser'), (120, 'Iris Kröger'), (121, 'Isabelle Laumer'), (122, 'James Close'), (123, 'Jan Engelmann'), (124, 'Jana Uher'), (125, 'Jane Widness'), (126, 'Jeffrey R. Stevens'), (127, 'Jennifer R. Laude'), (128, 'Jens B. Asendorpf'), (129, 'Jeremy B. Clift'), (130, 'Jessica Ferretti'), (131, 'Jessica F. Cantlon'), (132, 'Jingzhi Tan'), (133, 'Jochen Barth'), (134, 'Joel Bray'), (135, 'Joel Fagot'), (136, 'Johanna Eckert'), (137, 'Johannes Grossmann'), (138, 'Jordan C. Wade'), (139, 'Josef Perner'), (140, 'Josefine Kalbitz'), (141, 'Josep Call'), (142, 'Joseph M. Baker'), (143, 'Joshua M. Plotnik'), (144, 'Juan Carlos Gómez'), (145, 'Judith M. Burkart'), (146, 'Judith Migura'), (147, 'Julia Cissewski'), (148, 'Julia Fischer'), (149, 'Julia R. Greenberg'), (150, 'Julia Riedel'), (151, 'Julia Ulber'), (152, 'Julia Watzek'), (153, 'Juliane Braeuer'), (154, 'Juliane Kaminski'), (155, 'Julie K. Young'), (156, 'Katharina Hamann'), (157, 'Katharina Herfurth-Majstorovic'), (158, 'Katharina Kirchofer'), (159, 'Katherine A. Cronin'), (160, 'Kathrin Greve'), (161, 'Katrin Riedl'), (162, 'Kathrin S. Kopp'), (163, 'Katrin Schumann'), (164, 'Katie Slocombe'), (165, 'Katja Grosse'), (166, 'Katja Karg'), (167, 'Katja Liebal'), (168, 'Katrin Riedl'), (169, 'Kazuo Fujita'), (170, 'Keith Jensen'), (171, 'Kendra B. Sewall'), (172, 'Kerry E. Jordan'), (173, 'Klaus Zuberbühler'), (174, 'Kristin L. Leimgruber'), (175, 'Larissa Kraus'), (176, 'Laura Damerius'), (177, 'Lauren J. N. Brent'), (178, 'Laurie R. Santos'), (179, 'Leïla Benziad'), (180, 'Lena Schumacher'), (181, 'Liane Saucke'), (182, 'Ljerka Ostojic'), (183, 'Lou M. Haux'), (184, 'Louis J. DiVincenti'), (185, 'Lucia F. Jacobs'), (186, 'Lucy G. Cheke'), (187, 'Lydia M. Hopper'), (188, 'Mar Peretó'), (189, 'Marcos Nadal'), (190, 'Martina Funk'), (191, 'Martina Neumann'), (192, 'Martina Saporiti'), (193, 'Malinda Carpenter'), (194, 'Manon K. Schweinfurth'), (195, 'Manuel Bohn'), (196, 'Marc D. Hauser'), (197, 'Maren Braun'), (198, 'Marie Bourjade'), (199, 'Marie Schäfer'), (200, 'Marie Pele'), (201, 'Marie-Helene Broihanne'), (202, 'Marina Oshkina'), (203, 'Marine Joly'), (204, 'Marloes H. van der Goot'), (205, 'Marta Halina'), (206, 'Martin Schmelz'), (207, 'Martina Funk'), (208, 'Martina Scheumann'), (209, 'Masaki Tomonaga'), (210, 'Matthias Allritz'), (211, 'Michael J. Beran'), (212, 'Michael L. Platt'), (213, 'Michael Tomasello'), (214, 'Mikel M. Delgado'), (215, 'Molly Flessert'), (216, 'Montserrat Colell'), (217, 'Myriam Maumy'), (218, 'Natascha Mendes'), (219, 'Nathan J. Emery'), (220, 'Nazli Altinok'), (221, 'Neeltje J. Boogert'), (222, 'Nereida Bueno Guerra'), (223, 'Nicholas Mulcahy'), (224, 'N. Rebout'), (225, 'Nicola S. Clayton'), (226, 'Nicole Stoffregen'), (227, 'Nikolaus Steinbeis'), (228, 'Patricia Grocke'), (229, 'Patricia Kanngiesser'), (230, 'Patrizia Poti'), (231, 'Pavel Voinov'), (232, 'Peter Borkenau'), (233, 'Petra Vlamings'), (234, 'R.Adriana Hernandez-Aguilar'), (235, 'Ramona Frickel'), (236, 'Rachael C. Shaw'), (237, 'Rachna B. Reddy'), (238, 'Richard Moore'), (239, 'Richard Wrangham'), (240, 'Rindy C. Anderson'), (241, 'Robert Hepach'), (242, 'Robert Zingg'), (243, 'Robin I. M. Dunbar'), (244, 'Roger Mundry'), (245, 'Roman M. Wittig'), (246, 'Ruoting Tao'), (247, 'Sanae Okamoto'), (248, 'Sarah Brosnan'), (249, 'Sarah DeTroy'), (250, 'Sarah Heilbronner'), (251, 'Satoshi Hirata'), (252, 'Sebastian Grüneisen'), (253, 'Sebastian Schütte'), (254, 'Sebastian Tempelmann'), (255, 'Shona Duguid'), (256, 'Silke Telkemeyer'), (257, 'Simone Pika'), (258, 'Simon M. Reader'), (259, 'Sofia Forss'), (260, 'Sonja Ebel'), (261, 'Stella Christie'), (262, 'Stefanie Keupp'), (263, 'Stephen C. Levinson'), (264, 'Stephen R. Ross'), (265, 'Stephen V. Shepherd'), (266, 'Suska Nolte'), (267, 'Tania Singer'), (268, 'Tanja Kaller'), (269, 'T. Meier'), (270, 'Thomas Bugnyar'), (271, 'Thomas Jacobsen'), (272, 'Thomas R. Zentall'), (273, 'Tibor Tauzin'), (274, 'Tobias Deschner'), (275, 'Trix Cacchione'), (276, 'Ulf Liszkowski'), (277, 'Valen E. Johnson'), (278, 'Valentina Truppa'), (279, 'Valerie Dufour'), (280, 'Vanesa Schmitt'), (281, 'Verena Behringer'), (282, 'Victoria Wobber'), (283, 'Victoria Vonau'), (284, 'Wouter Wolf'), (285, 'Yanjie Su'), (286, 'Yini Zhao'), (287, 'Yvan Russell'), (288, 'Zaida K. Kosonen'), (289, 'Zsófia Virányi'), (290, 'Many Primates'), (291, 'Alihan Kabalak'), (292, 'Jürgen Jost')]\n"
     ]
    }
   ],
   "source": [
    "##here is how you can get a list of all authors\n",
    "join = conn.execute(\"\"\"SELECT *\n",
    "                        FROM authors \"\"\").fetchall()\n",
    "print(join)"
   ]
  },
  {
   "cell_type": "code",
   "execution_count": 9,
   "metadata": {},
   "outputs": [
    {
     "name": "stdout",
     "output_type": "stream",
     "text": [
      "[('abeeku', 1999, 'gorilla', 178, 'kumili_abeeku'), ('abeeku', 1999, 'gorilla', 196, 'abeeku_kumili'), ('abeeku', 1999, 'gorilla', 205, 'kibara_abeeku'), ('abeeku', 1999, 'gorilla', 287, 'kibara_abeeku'), ('abeeku', 1999, 'gorilla', 331, 'abeeku_viringika'), ('abeeku', 1999, 'gorilla', 491, 'viringika_abeeku'), ('abeeku', 1999, 'gorilla', 579, 'viringika_abeeku'), ('abeeku', 1999, 'gorilla', 786, 'abeeku_kumili'), ('abeeku', 1999, 'gorilla', 798, 'abeeku_viringika'), ('abeeku', 1999, 'gorilla', 1305, 'abeeku_kibara')]\n"
     ]
    }
   ],
   "source": [
    "##this example prints all dyad pairings where abeeku is either the first or second individual in the dyad\n",
    "##the foreign key is the dyad_pair present in both tables\n",
    "join = conn.execute(\"\"\"SELECT participant.participant, year_of_birth, species,   dyad_id,dyad.dyad_pair\n",
    "                        FROM participant\n",
    "                        INNER JOIN dyad\n",
    "                            ON participant.ind_id IN (dyad.ind_1_id, dyad.ind_2_id)\n",
    "                        WHERE participant.participant = \"abeeku\"\n",
    "                        ORDER BY participant.participant\"\"\").fetchall()\n",
    "\n",
    "print(join)"
   ]
  },
  {
   "cell_type": "code",
   "execution_count": 10,
   "metadata": {},
   "outputs": [
    {
     "name": "stdout",
     "output_type": "stream",
     "text": [
      "[('dokana', 'orangutan', 'kanngiesser2011limits_1'), ('dokana', 'orangutan', 'laumer2018spontaneous_1'), ('dokana', 'orangutan', 'lewis2017distinctiveness_3'), ('dokana', 'orangutan', 'mulcahy2005gorillas_6'), ('dokana', 'orangutan', 'volter2018intuitive_4'), ('dokana', 'orangutan', 'haun2006evolutionary_1'), ('dokana', 'orangutan', 'muhlenbeck2016differences_1'), ('dokana', 'orangutan', 'volter2016great_1'), ('dokana', 'orangutan', 'many2019establishing_1'), ('dokana', 'orangutan', 'uher2008coherence_9'), ('dokana', 'orangutan', 'tennie2010two_1'), ('dokana', 'orangutan', 'amici2014response_2'), ('dokana', 'orangutan', 'muhlenbeck2015gaze_1'), ('dokana', 'orangutan', 'martin2008tubes_1'), ('dokana', 'orangutan', 'rakoczy2014apes_3'), ('dokana', 'orangutan', 'russell2008image_1'), ('dokana', 'orangutan', 'laumer2019orangutans_5'), ('dokana', 'orangutan', 'manrique2015age_1'), ('dokana', 'orangutan', 'cacchione2009gravity_3'), ('dokana', 'orangutan', 'ebel2020object_1'), ('dokana', 'orangutan', 'amici2018social_1'), ('dokana', 'orangutan', 'amici2012aversion_2'), ('dokana', 'orangutan', 'call2006inferences_3'), ('dokana', 'orangutan', 'hribar2011great_3'), ('dokana', 'orangutan', 'uher2008coherence_8'), ('dokana', 'orangutan', 'brauer2009apes_1'), ('dokana', 'orangutan', 'kano2014cross_3'), ('dokana', 'orangutan', 'amici2014response_1'), ('dokana', 'orangutan', 'krupenye2017test_1'), ('dokana', 'orangutan', 'volter2016great_3'), ('dokana', 'orangutan', 'rakoczy2014apes_2'), ('dokana', 'orangutan', 'uher2008coherence_11'), ('dokana', 'orangutan', 'tauzin2020context_2'), ('dokana', 'orangutan', 'volter2018intuitive_4'), ('dokana', 'orangutan', 'amici2014lack_1'), ('dokana', 'orangutan', 'kano2011visual_1'), ('dokana', 'orangutan', 'laumer2018spontaneous_1'), ('dokana', 'orangutan', 'laumer2019orangutans_4'), ('dokana', 'orangutan', 'kano2019great_1'), ('dokana', 'orangutan', 'sanchez2019disentangling_1'), ('dokana', 'orangutan', 'volter2014cognitive_1'), ('dokana', 'orangutan', 'moore2015production_1'), ('dokana', 'orangutan', 'amici2012aversion_1'), ('dokana', 'orangutan', 'call2006inferences_2'), ('dokana', 'orangutan', 'hribar2011great_2'), ('dokana', 'orangutan', 'cacchione2014apes_1'), ('dokana', 'orangutan', 'bohn2016role_1'), ('dokana', 'orangutan', 'kano2018primate_1'), ('dokana', 'orangutan', 'uher2008coherence_10'), ('dokana', 'orangutan', 'tauzin2020context_1'), ('dokana', 'orangutan', 'volter2018intuitive_3'), ('dokana', 'orangutan', 'uher2008coherence_0'), ('dokana', 'orangutan', 'volter2016great_5'), ('dokana', 'orangutan', 'rakoczy2014apes_4'), ('dokana', 'orangutan', 'manrique2013repeated_1'), ('dokana', 'orangutan', 'laumer2019orangutans_6'), ('dokana', 'orangutan', 'bandini2021individually_1'), ('dokana', 'orangutan', 'manrique2011spontaneous_2'), ('dokana', 'orangutan', 'volter2014cognitive_3'), ('dokana', 'orangutan', 'sanchez2016differences_1'), ('dokana', 'orangutan', 'kano2014great_1'), ('dokana', 'orangutan', 'martin2013memory_1'), ('dokana', 'orangutan', 'volter2016great_4'), ('dokana', 'orangutan', 'tauzin2020context_3'), ('dokana', 'orangutan', 'uher2008coherence_12'), ('dokana', 'orangutan', 'albiach2012apes_1'), ('dokana', 'orangutan', 'uher2008coherence_2'), ('dokana', 'orangutan', 'albiach2015comparing_1'), ('dokana', 'orangutan', 'haun2011great_1'), ('dokana', 'orangutan', 'volter2012problem_1'), ('dokana', 'orangutan', 'manrique2011spontaneous_1'), ('dokana', 'orangutan', 'ebel2021prior_1'), ('dokana', 'orangutan', 'bourjade2014bonobos_1'), ('dokana', 'orangutan', 'albiach2010great_1'), ('dokana', 'orangutan', 'moore2015production_2'), ('dokana', 'orangutan', 'eckert2017great_1'), ('dokana', 'orangutan', 'cacchione2014apes_2'), ('dokana', 'orangutan', 'schmid2017great_1'), ('dokana', 'orangutan', 'kanngiesser2011limits_2'), ('dokana', 'orangutan', 'amici2008fission_1'), ('dokana', 'orangutan', 'volter2012problem_3'), ('dokana', 'orangutan', 'kano2012face_1'), ('dokana', 'orangutan', 'uher2008coherence_1'), ('dokana', 'orangutan', 'martin2010keeping_1'), ('dokana', 'orangutan', 'dufour2009calculated_1'), ('dokana', 'orangutan', 'uher2008coherence_14'), ('dokana', 'orangutan', 'buttelmann2008behavioral_2'), ('dokana', 'orangutan', 'kano2018human_1'), ('dokana', 'orangutan', 'vlamings2006great_1'), ('dokana', 'orangutan', 'uher2008coherence_4'), ('dokana', 'orangutan', 'brauer2015apes_1'), ('dokana', 'orangutan', 'bohn2019natural_1'), ('dokana', 'orangutan', 'bohn2017information_1'), ('dokana', 'orangutan', 'eckert2017great_0'), ('dokana', 'orangutan', 'manrique2011spontaneous_3'), ('dokana', 'orangutan', 'kanngiesser2011limits_1'), ('dokana', 'orangutan', 'sanchez2016differences_2'), ('dokana', 'orangutan', 'volter2015exploitation_2'), ('dokana', 'orangutan', 'volter2012problem_2'), ('dokana', 'orangutan', 'cacchione2009gravity_baseline'), ('dokana', 'orangutan', 'martin2013memory_2'), ('dokana', 'orangutan', 'volter2014great_1'), ('dokana', 'orangutan', 'uher2008coherence_13'), ('dokana', 'orangutan', 'liebal2014does_1'), ('dokana', 'orangutan', 'tennie2006push_1'), ('dokana', 'orangutan', 'buttelmann2008behavioral_1'), ('dokana', 'orangutan', 'broihanne2019monkeys_1'), ('dokana', 'orangutan', 'martin2009assessing_1'), ('dokana', 'orangutan', 'uher2008coherence_3'), ('dokana', 'orangutan', 'kano2018human_3'), ('dokana', 'orangutan', 'uher2008coherence_6'), ('dokana', 'orangutan', 'ebel2019innovative_3'), ('dokana', 'orangutan', 'tennie2009ratcheting_1'), ('dokana', 'orangutan', 'volter2015exploitation_1'), ('dokana', 'orangutan', 'eckert2017great_2'), ('dokana', 'orangutan', 'allritz2013food_1'), ('dokana', 'orangutan', 'kanngiesser2010bonobos_2'), ('dokana', 'orangutan', 'kanngiesser2011limits_3'), ('dokana', 'orangutan', 'volter2015exploitation_4'), ('dokana', 'orangutan', 'laumer2019orangutans_2'), ('dokana', 'orangutan', 'manrique2010great_1'), ('dokana', 'orangutan', 'brauer2006apes_1'), ('dokana', 'orangutan', 'buttelmann2008behavioral_3'), ('dokana', 'orangutan', 'bohn2015communication_2'), ('dokana', 'orangutan', 'uher2008coherence_5'), ('dokana', 'orangutan', 'manrique2011spontaneous_4'), ('dokana', 'orangutan', 'kanngiesser2010bonobos_1'), ('dokana', 'orangutan', 'bohn2020learning_1'), ('dokana', 'orangutan', 'krupenye2016great_1'), ('dokana', 'orangutan', 'volter2015exploitation_3'), ('dokana', 'orangutan', 'volter2018intuitive_1'), ('dokana', 'orangutan', 'buttelmann2017great_2'), ('dokana', 'orangutan', 'haun2009great_2'), ('dokana', 'orangutan', 'laumer2019orangutans_1'), ('dokana', 'orangutan', 'forss2016cognitive_1'), ('dokana', 'orangutan', 'uher2008great_1'), ('dokana', 'orangutan', 'bohn2015communication_1'), ('dokana', 'orangutan', 'manrique2010great_3'), ('dokana', 'orangutan', 'cacchione2009gravity_2'), ('dokana', 'orangutan', 'amici2010monkeys_1'), ('dokana', 'orangutan', 'uher2008coherence_7'), ('dokana', 'orangutan', 'lewis2017non_1'), ('dokana', 'orangutan', 'martin2011memory_3'), ('dokana', 'orangutan', 'buttelmann2017great_1'), ('dokana', 'orangutan', 'muhlenbeck2017cultural_1'), ('dokana', 'orangutan', 'volter2016great_2'), ('dokana', 'orangutan', 'rakoczy2014apes_1'), ('dokana', 'orangutan', 'romain2021non_1'), ('dokana', 'orangutan', 'liebal2017give_1'), ('dokana', 'orangutan', 'laumer2019orangutans_3'), ('dokana', 'orangutan', 'manrique2010great_2'), ('dokana', 'orangutan', 'cacchione2009gravity_1'), ('dokana', 'orangutan', 'call2006inferences_1'), ('dokana', 'orangutan', 'hribar2011great_1'), ('dokana', 'orangutan', 'martin2011memory_2'), ('dokana', 'orangutan', 'kano2014cross_1'), ('dokana', 'orangutan', 'amici2012modular_1'), ('dokana', 'orangutan', 'uher2008coherence_5'), ('dokana', 'orangutan', 'amici2018social_1'), ('dokana', 'orangutan', 'amici2012aversion_2'), ('dokana', 'orangutan', 'liebal2014does_1'), ('dokana', 'orangutan', 'brauer2009apes_1'), ('dokana', 'orangutan', 'amici2014calculated_1'), ('dokana', 'orangutan', 'amici2014lack_1'), ('dokana', 'orangutan', 'liebal2017give_1'), ('dokana', 'orangutan', 'amici2012aversion_1'), ('dokana', 'orangutan', 'brauer2006apes_1'), ('dokana', 'orangutan', 'dufour2009calculated_1')]\n"
     ]
    }
   ],
   "source": [
    "## here is an example of how to return all experiments where dokana is a participant\n",
    "\n",
    "join = conn.execute(\"\"\"SELECT participant.participant, participant.species,  participant_experiment.study_exp\n",
    "                        FROM participant\n",
    "                        INNER JOIN participant_experiment\n",
    "                            ON participant.ind_id = participant_experiment.ind_id\n",
    "                        WHERE participant.participant = \"dokana\"\n",
    "                        \"\"\").fetchall()\n",
    "\n",
    "\n",
    "print(join)"
   ]
  },
  {
   "cell_type": "code",
   "execution_count": 12,
   "metadata": {},
   "outputs": [
    {
     "name": "stdout",
     "output_type": "stream",
     "text": [
      "[('abeeku', 'gorilla', 'kumili_abeeku', 'amici2018social_1'), ('abeeku', 'gorilla', 'abeeku_kumili', 'amici2014lack_1'), ('abeeku', 'gorilla', 'kibara_abeeku', 'amici2018social_1'), ('abeeku', 'gorilla', 'kibara_abeeku', 'amici2014lack_1'), ('abeeku', 'gorilla', 'abeeku_viringika', 'amici2018social_1'), ('abeeku', 'gorilla', 'viringika_abeeku', 'amici2018social_1'), ('abeeku', 'gorilla', 'viringika_abeeku', 'amici2014lack_1'), ('abeeku', 'gorilla', 'abeeku_kumili', 'amici2018social_1'), ('abeeku', 'gorilla', 'abeeku_viringika', 'amici2014lack_1'), ('abeeku', 'gorilla', 'abeeku_kibara', 'amici2018social_1')]\n"
     ]
    }
   ],
   "source": [
    "## here is an example if you want to know what experiments abeeku is a dyad in\n",
    "\n",
    "join = conn.execute(\"\"\"SELECT participant.participant, species,  dyad.dyad_pair, dyad_experiment.study_exp\n",
    "                        FROM participant\n",
    "                        INNER JOIN dyad\n",
    "                            ON participant.ind_id IN (dyad.ind_1_id, dyad.ind_2_id)\n",
    "                        INNER JOIN dyad_experiment\n",
    "                            ON dyad.dyad_id = dyad_experiment.dyad_id\n",
    "                        WHERE participant.participant = \"abeeku\"\n",
    "                        ORDER BY participant.participant\"\"\").fetchall()\n",
    "print(join)"
   ]
  },
  {
   "cell_type": "code",
   "execution_count": 13,
   "metadata": {},
   "outputs": [
    {
     "name": "stdout",
     "output_type": "stream",
     "text": [
      "{('dorien', 'chimpanzee'), ('sandra', 'chimpanzee'), ('kara', 'chimpanzee'), ('bimbo', 'orangutan'), ('pia', 'chimpanzee'), ('pini', 'orangutan'), ('toba', 'orangutan'), ('fimi', 'bonobo'), ('luiza', 'bonobo'), ('abeeku', 'gorilla'), ('dunja', 'orangutan'), ('ulla', 'chimpanzee'), ('n’kwango', 'gorilla'), ('kibara', 'gorilla'), ('padana', 'orangutan'), ('brigitta', 'chimpanzee'), ('lome', 'chimpanzee'), ('walter', 'orangutan'), ('robert', 'chimpanzee'), ('bangolo', 'chimpanzee'), ('tai', 'chimpanzee'), ('maja', 'chimpanzee'), ('yasa', 'bonobo'), ('jahaga', 'chimpanzee'), ('bebe', 'gorilla'), ('swela', 'chimpanzee'), ('kumili', 'gorilla'), ('gertrudia', 'chimpanzee'), ('lexi', 'bonobo'), ('kuno', 'bonobo'), (\"ruby_b'windi\", 'gorilla'), ('kila', 'orangutan'), ('riet', 'chimpanzee'), ('suaq', 'orangutan'), ('viringika', 'gorilla'), ('n’diki', 'gorilla'), ('gorgo', 'gorilla'), ('limbuko', 'bonobo'), ('jasongo', 'bonobo'), ('ulindi', 'bonobo'), ('natascha', 'chimpanzee'), ('kofi', 'chimpanzee'), ('tanah', 'orangutan'), ('alex', 'chimpanzee'), ('fifi', 'chimpanzee'), ('unyoro', 'chimpanzee'), ('jeudi', 'chimpanzee'), ('daza', 'chimpanzee'), ('joey', 'bonobo'), ('frodo', 'chimpanzee'), ('frederike', 'chimpanzee'), ('corry', 'chimpanzee'), ('lobo', 'chimpanzee'), ('alexandra', 'chimpanzee'), ('fraukje', 'chimpanzee'), ('annett', 'chimpanzee'), ('batak', 'orangutan'), ('raja', 'orangutan'), ('patrick', 'chimpanzee'), ('dokana', 'orangutan'), ('gemena', 'bonobo'), ('louna', 'gorilla'), ('brent', 'chimpanzee')}\n"
     ]
    }
   ],
   "source": [
    "## here is an example of how to get all apes NOT in a dyad\n",
    "##first get all apes which are IN a dyad\n",
    "\n",
    "join_first = conn.execute(\"\"\"SELECT participant.participant, species\n",
    "                        FROM participant\n",
    "                        INNER JOIN dyad\n",
    "                            ON participant.ind_id IN (dyad.ind_1_id, dyad.ind_2_id)\n",
    "                        ORDER BY participant.participant\"\"\").fetchall()\n",
    "join_first = set(join_first) ## sets do not adhere by things like alphabetical order\n",
    "print(join_first)\n",
    "\n",
    "## next get all apes+species which are not in a dyad\n",
    "join = conn.execute(\"\"\"SELECT participant.participant, species\n",
    "                        FROM participant\n",
    "                        EXCEPT\n",
    "                        SELECT participant.participant, species\n",
    "                        FROM participant\n",
    "                        INNER JOIN dyad\n",
    "                            ON participant.ind_id IN (dyad.ind_1_id, dyad.ind_2_id)\n",
    "                        ORDER BY participant.participant\"\"\").fetchall()\n",
    "print(join)\n"
   ]
  },
  {
   "cell_type": "code",
   "execution_count": 5,
   "metadata": {},
   "outputs": [
    {
     "name": "stdout",
     "output_type": "stream",
     "text": [
      "drop_outs:  [('dorien', 'chimpanzee', 21), ('bimbo', 'orangutan', 20), ('gorgo', 'gorilla', 19), ('ulindi', 'bonobo', 19), ('ulla', 'chimpanzee', 9), ('swela', 'chimpanzee', 8), ('robert', 'chimpanzee', 8), ('natascha', 'chimpanzee', 7), ('annett', 'chimpanzee', 7), ('joey', 'bonobo', 7), ('corry', 'chimpanzee', 6), ('dokana', 'orangutan', 5), ('n’diki', 'gorilla', 5), ('riet', 'chimpanzee', 5), ('dunja', 'orangutan', 4), ('vizuri', 'gorilla', 4), ('sandra', 'chimpanzee', 4), ('limbuko', 'bonobo', 4), ('walter', 'orangutan', 3), ('padana', 'orangutan', 3), ('tai', 'chimpanzee', 3), ('lome', 'chimpanzee', 3), ('jahaga', 'chimpanzee', 3), ('gertrudia', 'chimpanzee', 3), ('frodo', 'chimpanzee', 3), ('fifi', 'chimpanzee', 3), ('brent', 'chimpanzee', 3), ('kuno', 'bonobo', 3), ('kila', 'orangutan', 2), ('vimoto', 'gorilla', 2), ('abeeku', 'gorilla', 2), ('unyoro', 'chimpanzee', 2), ('pia', 'chimpanzee', 2), ('kisha', 'chimpanzee', 2), ('kara', 'chimpanzee', 2), ('jeudi', 'chimpanzee', 2), ('fraukje', 'chimpanzee', 2), ('brigitta', 'chimpanzee', 2), ('bangolo', 'chimpanzee', 2), ('alexandra', 'chimpanzee', 2), ('yasa', 'bonobo', 2), ('jasongo', 'bonobo', 2), ('toba', 'orangutan', 1), ('tanah', 'orangutan', 1), ('raja', 'orangutan', 1), ('pini', 'orangutan', 1), ('batak', 'orangutan', 1), ('viringika', 'gorilla', 1), (\"ruby_b'windi\", 'gorilla', 1), ('n’kwango', 'gorilla', 1), ('kumili', 'gorilla', 1), ('patrick', 'chimpanzee', 1), ('mosi', 'chimpanzee', 1), ('kofi', 'chimpanzee', 1), ('frederike', 'chimpanzee', 1), ('daza', 'chimpanzee', 1), ('yaro', 'bonobo', 1), ('loto', 'bonobo', 1), ('lexi', 'bonobo', 1), ('fimi', 'bonobo', 1), ('bokela', 'bonobo', 1)]\n",
      "less experienced but still great apes:  [('bokela', 1), ('makeni', 1), ('mosi', 1)]\n"
     ]
    }
   ],
   "source": [
    "## Who/how often have participants dropped out of experiments?\n",
    "\n",
    "##group all the ape names together so they can be counted properly\n",
    "##order by the frequency of ape name appearance in descending order \n",
    "join = conn.execute(\"\"\"SELECT participant.participant, participant.species, count(*) from participant \n",
    "                       JOIN participant_experiment ON participant.ind_id = participant_experiment.ind_id     \n",
    "                       WHERE participant_experiment.drop_out = \"TRUE\"\n",
    "                       GROUP BY participant.ind_id\n",
    "                       ORDER BY count(*) DESC;\"\"\").fetchall()\n",
    "print(\"drop_outs: \", join)\n",
    "\n",
    "##who has participated the least in experiments? (limited output to 3)\n",
    "join = conn.execute(\"\"\"SELECT participant.participant, count(*) from participant \n",
    "                       JOIN participant_experiment ON participant.ind_id = participant_experiment.ind_id \n",
    "                       GROUP BY participant.ind_id\n",
    "                       ORDER BY count(*) ASC\n",
    "                       LIMIT 3;\"\"\").fetchall()\n",
    "print(\"less experienced but still great apes: \" ,join)\n"
   ]
  }
 ],
 "metadata": {
  "kernelspec": {
   "display_name": "new-python",
   "language": "python",
   "name": "python3"
  },
  "language_info": {
   "codemirror_mode": {
    "name": "ipython",
    "version": 3
   },
   "file_extension": ".py",
   "mimetype": "text/x-python",
   "name": "python",
   "nbconvert_exporter": "python",
   "pygments_lexer": "ipython3",
   "version": "3.12.10"
  },
  "orig_nbformat": 4
 },
 "nbformat": 4,
 "nbformat_minor": 2
}
